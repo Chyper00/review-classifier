{
 "cells": [
  {
   "cell_type": "code",
   "execution_count": 1,
   "metadata": {},
   "outputs": [
    {
     "name": "stdout",
     "output_type": "stream",
     "text": [
      "                                               review  label\n",
      "0       This restaurant is amazing, I loved the food!      1\n",
      "1    The service was very slow and the food was cold.     -1\n",
      "2    I didn't like the service, I wouldn't come back.     -1\n",
      "3       Okay food, but the environment is very noisy.      0\n",
      "4             Great place for dinner, I recommend it.      1\n",
      "5   The food was delicious, but the service left s...      1\n",
      "6     I was well received, but the food wasn't fresh.     -1\n",
      "7   Excellent environment, quick service and tasty...      1\n",
      "8   I wouldn't recommend this place, very bad expe...     -1\n",
      "9          Terrible service, I would never come back.     -1\n",
      "10                Very good service and quality food.      1\n",
      "11  The place is beautiful, but the prices are too...     -1\n",
      "12  Impeccable service, but the food wasn't up to ...     -1\n",
      "13  I liked the environment, but the food left som...      0\n",
      "14   I recommend it to anyone who likes good service.      1\n",
      "15  Terrible experience, I wouldn't come back at all.     -1\n",
      "16  Excellent food, but the environment is a bit n...      0\n",
      "17              I didn't like the service, very slow.     -1\n",
      "18   Pleasant environment, but the food wasn't fresh.     -1\n",
      "19        Excellent service, but the prices are high.     -1\n",
      "20  The place is cozy, but the service left someth...      1\n",
      "21         Tasty food and fair price, I recommend it.      1\n",
      "22  Quick and efficient service, but the food wasn...     -1\n",
      "23      Positive experience, I would come back again.      1\n",
      "24  I don't recommend it, bad service and tasteles...     -1\n",
      "25         Good service, but the food was very salty.      0\n",
      "26  Great food, but the service left something to ...     -1\n",
      "27           Pleasant environment and delicious food!      1\n",
      "28  The environment was nice, but the food was dis...      0\n",
      "29       The service was terrible, I won't come back.     -1\n",
      "30  Amazing food, but the service left something t...      1\n",
      "31           I recommend it, satisfactory experience.      1\n",
      "32          Excellent service, but the food was cold.     -1\n",
      "33  I wouldn't come back, bad service and tasteles...     -1\n",
      "34  Pleasant environment, but the service left som...      0\n",
      "35      The food was okay, but the price is too high.     -1\n",
      "36      I wouldn't recommend it, terrible experience.     -1\n",
      "37          Quick service, but the food wasn't fresh.     -1\n",
      "38              Cozy place, but the food wasn't good.     -1\n",
      "39  The service left something to be desired, I wo...     -1\n",
      "40              Excellent experience, delicious food!      1\n",
      "41  I didn't like the service, very slow and confu...     -1\n",
      "42           Beautiful environment, but very crowded.      0\n",
      "43        Quality service, but the food wasn't fresh.     -1\n",
      "44         I wouldn't recommend it, terrible service.     -1\n",
      "45      Good service, but the food wasn't hot enough.     -1\n",
      "46                            Nice place, tasty food.      1\n",
      "47  I wouldn't come back, the service left a lot t...     -1\n",
      "48              Bad experience, I don't recommend it.     -1\n",
      "49  Excellent food, but the service left something...      1\n"
     ]
    }
   ],
   "source": [
    "import pandas as pd\n",
    "\n",
    "# Load the dataset from the CSV file\n",
    "df = pd.read_csv('reviews_dataset.csv')\n",
    "\n",
    "# Display the loaded dataset\n",
    "print(df)\n"
   ]
  },
  {
   "cell_type": "code",
   "execution_count": 2,
   "metadata": {},
   "outputs": [
    {
     "name": "stdout",
     "output_type": "stream",
     "text": [
      "Shape of X_train: (40, 83), Shape of X_test: (10, 83)\n",
      "Number of training examples: 40, Number of testing examples: 10\n"
     ]
    }
   ],
   "source": [
    "import pandas as pd\n",
    "from sklearn.feature_extraction.text import TfidfVectorizer\n",
    "from sklearn.model_selection import train_test_split\n",
    "\n",
    "# Load the dataset from the CSV file\n",
    "df = pd.read_csv('reviews_dataset.csv')\n",
    "\n",
    "# TF-IDF Vectorization\n",
    "vectorizer = TfidfVectorizer(max_features=1000)\n",
    "X = vectorizer.fit_transform(df['review'])\n",
    "\n",
    "# Split the data into training and testing sets\n",
    "X_train, X_test, y_train, y_test = train_test_split(X, df['label'], test_size=0.2, random_state=42)\n",
    "\n",
    "# Display the dimensions of the training and testing sets\n",
    "print(f\"Shape of X_train: {X_train.shape}, Shape of X_test: {X_test.shape}\")\n",
    "print(f\"Number of training examples: {X_train.shape[0]}, Number of testing examples: {X_test.shape[0]}\")\n"
   ]
  },
  {
   "cell_type": "code",
   "execution_count": 3,
   "metadata": {},
   "outputs": [
    {
     "name": "stdout",
     "output_type": "stream",
     "text": [
      "Accuracy: 0.6\n",
      "              precision    recall  f1-score   support\n",
      "\n",
      "          -1       0.83      0.71      0.77         7\n",
      "           0       0.00      0.00      0.00         2\n",
      "           1       0.25      1.00      0.40         1\n",
      "\n",
      "    accuracy                           0.60        10\n",
      "   macro avg       0.36      0.57      0.39        10\n",
      "weighted avg       0.61      0.60      0.58        10\n",
      "\n",
      "Model saved as podium_reviews_classifier.pkl\n"
     ]
    },
    {
     "name": "stderr",
     "output_type": "stream",
     "text": [
      "/home/diggo/review-classifier/myenv/lib/python3.12/site-packages/sklearn/metrics/_classification.py:1517: UndefinedMetricWarning: Precision is ill-defined and being set to 0.0 in labels with no predicted samples. Use `zero_division` parameter to control this behavior.\n",
      "  _warn_prf(average, modifier, f\"{metric.capitalize()} is\", len(result))\n",
      "/home/diggo/review-classifier/myenv/lib/python3.12/site-packages/sklearn/metrics/_classification.py:1517: UndefinedMetricWarning: Precision is ill-defined and being set to 0.0 in labels with no predicted samples. Use `zero_division` parameter to control this behavior.\n",
      "  _warn_prf(average, modifier, f\"{metric.capitalize()} is\", len(result))\n",
      "/home/diggo/review-classifier/myenv/lib/python3.12/site-packages/sklearn/metrics/_classification.py:1517: UndefinedMetricWarning: Precision is ill-defined and being set to 0.0 in labels with no predicted samples. Use `zero_division` parameter to control this behavior.\n",
      "  _warn_prf(average, modifier, f\"{metric.capitalize()} is\", len(result))\n"
     ]
    }
   ],
   "source": [
    "import pandas as pd\n",
    "from sklearn.feature_extraction.text import TfidfVectorizer\n",
    "from sklearn.model_selection import train_test_split\n",
    "from sklearn.svm import SVC\n",
    "from sklearn.metrics import classification_report, accuracy_score\n",
    "import joblib\n",
    "\n",
    "# Load the dataset from the CSV file\n",
    "df = pd.read_csv('reviews_dataset.csv')\n",
    "\n",
    "# TF-IDF Vectorization\n",
    "# Convert the text reviews into a TF-IDF feature matrix\n",
    "vectorizer = TfidfVectorizer(max_features=1000)\n",
    "X = vectorizer.fit_transform(df['review'])\n",
    "\n",
    "# Split the data into training and testing sets\n",
    "# Split the data into 80% training and 20% testing sets\n",
    "X_train, X_test, y_train, y_test = train_test_split(X, df['label'], test_size=0.2, random_state=42)\n",
    "\n",
    "# Initialize the SVM classifier\n",
    "# Use a linear kernel for the SVM classifier\n",
    "classifier = SVC(kernel='linear', random_state=42)\n",
    "\n",
    "# Train the model\n",
    "# Train the SVM classifier with the training data\n",
    "classifier.fit(X_train, y_train)\n",
    "\n",
    "# Predict with the test set\n",
    "# Use the trained classifier to predict labels for the test data\n",
    "y_pred = classifier.predict(X_test)\n",
    "\n",
    "# Evaluate the model's performance\n",
    "# Print the accuracy and detailed classification report\n",
    "print(\"Accuracy:\", accuracy_score(y_test, y_pred))\n",
    "print(classification_report(y_test, y_pred))\n",
    "\n",
    "# Save the trained model\n",
    "# Save the trained SVM classifier to a file for later use\n",
    "joblib.dump(classifier, 'podium_reviews_classifier.pkl')\n",
    "print(\"Model saved as podium_reviews_classifier.pkl\")\n"
   ]
  },
  {
   "cell_type": "code",
   "execution_count": 7,
   "metadata": {},
   "outputs": [
    {
     "name": "stdout",
     "output_type": "stream",
     "text": [
      "Review: i love it => Prediction: 1\n"
     ]
    }
   ],
   "source": [
    "import pandas as pd\n",
    "from sklearn.feature_extraction.text import TfidfVectorizer\n",
    "from sklearn.model_selection import train_test_split\n",
    "from sklearn.svm import SVC\n",
    "from sklearn.metrics import classification_report, accuracy_score\n",
    "import joblib\n",
    "\n",
    "\n",
    "classifier_loaded = joblib.load('podium_reviews_classifier.pkl')\n",
    "\n",
    "# Example usage with new reviews\n",
    "new_reviews = [\n",
    "    \"i love it\",  # New review for classification\n",
    "]\n",
    "\n",
    "# Vectorize the new reviews\n",
    "# Convert the new reviews into a TF-IDF feature matrix using the trained vectorizer\n",
    "X_new = vectorizer.transform(new_reviews)\n",
    "\n",
    "# Predict the classes of the new reviews\n",
    "# Use the loaded classifier to predict labels for the new reviews\n",
    "predictions = classifier_loaded.predict(X_new)\n",
    "\n",
    "# Display the predictions\n",
    "# Print the original review and its predicted label\n",
    "for review, prediction in zip(new_reviews, predictions):\n",
    "    print(f\"Review: {review} => Prediction: {prediction}\")\n"
   ]
  }
 ],
 "metadata": {
  "kernelspec": {
   "display_name": "myenv",
   "language": "python",
   "name": "python3"
  },
  "language_info": {
   "codemirror_mode": {
    "name": "ipython",
    "version": 3
   },
   "file_extension": ".py",
   "mimetype": "text/x-python",
   "name": "python",
   "nbconvert_exporter": "python",
   "pygments_lexer": "ipython3",
   "version": "3.12.3"
  }
 },
 "nbformat": 4,
 "nbformat_minor": 2
}
